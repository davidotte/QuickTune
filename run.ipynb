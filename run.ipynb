{
  "nbformat": 4,
  "nbformat_minor": 0,
  "metadata": {
    "colab": {
      "provenance": [],
      "gpuType": "T4"
    },
    "kernelspec": {
      "name": "python3",
      "display_name": "Python 3"
    },
    "language_info": {
      "name": "python"
    },
    "accelerator": "GPU"
  },
  "cells": [
    {
      "cell_type": "code",
      "execution_count": null,
      "metadata": {
        "id": "TU-SIyGnSKT8",
        "collapsed": true
      },
      "outputs": [],
      "source": [
        "!pip install git+https://github.com/davidotte/QuickTune\n",
        "!git clone https://github.com/davidotte/QuickTune.git"
      ]
    },
    {
      "cell_type": "code",
      "source": [
        "# Adjust the PYTHONPATH to include the directory containing the qtt module\n",
        "from pathlib import Path\n",
        "import os\n",
        "os.environ['PYTHONPATH'] = str(Path().resolve() / 'QuickTune' / 'src')"
      ],
      "metadata": {
        "id": "S0JUUYTSUOJs"
      },
      "execution_count": 5,
      "outputs": []
    },
    {
      "cell_type": "code",
      "source": [
        "!python QuickTune/run.py --dataset fashion --budget 3600"
      ],
      "metadata": {
        "id": "g8rE6_13Svjz",
        "colab": {
          "base_uri": "https://localhost:8080/"
        },
        "outputId": "800a1fa3-be1e-448a-8912-01e527880568"
      },
      "execution_count": null,
      "outputs": [
        {
          "output_type": "stream",
          "name": "stdout",
          "text": [
            "24.07.16 12:17:21 -       QuickTuner: [INFO] Starting QuickTuner fit.\n",
            "24.07.16 12:17:21 -       QuickTuner: [INFO] QuickTuneTool will save results to qtt/240716-121721\n",
            "24.07.16 12:17:21 -         finetune: [INFO] Training with a single process on 1 device (cuda).\n",
            "model.safetensors: 100% 11.5M/11.5M [00:00<00:00, 86.9MB/s]\n",
            "24.07.16 12:17:22 -         finetune: [INFO] Model mobilevitv2_075 created, param count:2484859\n",
            "24.07.16 12:17:22 -         finetune: [INFO] AMP not enabled. Training in float32.\n",
            "/usr/local/lib/python3.10/dist-packages/torch/utils/data/dataloader.py:558: UserWarning: This DataLoader will create 8 worker processes in total. Our suggested max number of worker in current system is 2, which is smaller than what this DataLoader is going to create. Please be aware that excessive worker creation might get DataLoader running slow or even freeze, lower the worker number to avoid potential slowness/freeze if necessary.\n",
            "  warnings.warn(_create_warning_msg(\n",
            "Collecting labels to calculate relationship\n",
            " 32% 1908/6000 [01:32<05:01, 13.55it/s]"
          ]
        }
      ]
    }
  ]
}